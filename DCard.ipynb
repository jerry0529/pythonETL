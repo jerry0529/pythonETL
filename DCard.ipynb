{
 "cells": [
  {
   "cell_type": "code",
   "execution_count": 25,
   "metadata": {
    "collapsed": true
   },
   "outputs": [],
   "source": [
    "#要搜尋的網站的driver\n",
    "import requests\n",
    "#將抓到的json檔案寫入json中\n",
    "import json\n",
    "#新增資料夾\n",
    "import os\n",
    "#存圖\n",
    "import urllib.request \n",
    "def D_Card(url):\n",
    "    #西施板的cookie\n",
    "    headers = {\"cookie\":\"__cfduid=d4ba3da2ed21be62be47991532506702b1493536192; dcard-web=eyJjc3JmU2VjcmV0IjoiSS1jM29RX28yY2VsbzhqMUM2UEFYUmkwIiwidG9rZW4iOiJXNFBrMjRyd1NWT1RNUjY0dkRZUjBBPT0ifQ==; dcard-web.sig=6bzkzcF0qJ6OZWxYAeLAunj6oA4; appier_utmz=%7B%22csr%22%3A%22google%22%2C%22timestamp%22%3A1493536194%7D; _atrk_sync_cookie=true; _atrk_ssid=gBdOKGCeHGRnZL5rCElE8K; _atrk_sessidx=3; _atrk_siteuid=l6CVbjamd81L-bof; __asc=e34e3a1d15bbdb1bcb32cb74699; __auc=e34e3a1d15bbdb1bcb32cb74699; _ga=GA1.2.304721922.1493536194; __gads=ID=af285be025863ded:T=1493536199:S=ALNI_MZTwWkZTnYhWA4ajl_E_74NmHi-kQ; _gat=1\"} \n",
    "    #key in色色的URL和\"我以滿18\"的cookie\n",
    "    res = requests.get(url, headers=headers)\n",
    "    #將json檔存入json物件中\n",
    "    load = json.loads(res.text)\n",
    "    #Dcard可以直接抓到json格式的網址\n",
    "    #所以直接選取需要的key，回傳值式value\n",
    "    #可以print(load)出來看是什麼樣子\n",
    "    content = load['content']\n",
    "    title = load['title']\n",
    "    path = \"/home/ubuntu/Downloads/testDC/{}\".format(title)\n",
    "    #建立資料夾，若資料夾不存在，則mkdir\n",
    "    if not os.path.isdir(path):\n",
    "        os.mkdir(path)\n",
    "    #開啟一個檔案(\"路徑+檔案類型\"，\"是讀還是寫\"，\"檔案編碼\")    \n",
    "    con = open('/home/ubuntu/Downloads/testDC/{}/{}.txt'.format(title,title), 'w', encoding = 'UTF-8')\n",
    "    #將資料寫入開啟的檔案\n",
    "    con.write(content)\n",
    "    #關閉資源\n",
    "    con.close()\n",
    "    #建立圖檔的URL和名稱的list\n",
    "    img_url = []\n",
    "    img_name = []\n",
    "    #因為一個網站有很多圖\n",
    "    for no in range(0,len(load['media'])):\n",
    "        #圖的URL\n",
    "        img_url.append(load['media'][no]['url'])\n",
    "        #圖的名稱\n",
    "        img_name.append(load['media'][no]['url'].split('com/')[1].split('.jpg')[0])\n",
    "        #將圖寫入硬體(\"要寫入的URL\"，\"要寫入的路徑\")\n",
    "        urllib.request.urlretrieve(img_url[no],'/home/ubuntu/Downloads/testDC/{}/{}.jpg'.format(title,img_name[no]))\n",
    "    "
   ]
  },
  {
   "cell_type": "code",
   "execution_count": 26,
   "metadata": {
    "collapsed": true
   },
   "outputs": [],
   "source": [
    "D_Card(\"https://www.dcard.tw/_api/posts/226289484?\")"
   ]
  },
  {
   "cell_type": "code",
   "execution_count": null,
   "metadata": {
    "collapsed": true
   },
   "outputs": [],
   "source": []
  }
 ],
 "metadata": {
  "kernelspec": {
   "display_name": "Python 3",
   "language": "python",
   "name": "python3"
  },
  "language_info": {
   "codemirror_mode": {
    "name": "ipython",
    "version": 3
   },
   "file_extension": ".py",
   "mimetype": "text/x-python",
   "name": "python",
   "nbconvert_exporter": "python",
   "pygments_lexer": "ipython3",
   "version": "3.6.1"
  }
 },
 "nbformat": 4,
 "nbformat_minor": 2
}
